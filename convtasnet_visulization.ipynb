{
 "cells": [
  {
   "cell_type": "markdown",
   "metadata": {},
   "source": [
    "# extract log"
   ]
  },
  {
   "cell_type": "code",
   "execution_count": 5,
   "metadata": {},
   "outputs": [],
   "source": [
    "# coding=utf-8\n",
    "# 该文件用来提取训练log，去除不可解析的log后使log文件格式化，生成新的log文件供可视化工具绘图\n",
    " \n",
    "import inspect\n",
    "import os\n",
    "import random\n",
    "import sys\n",
    "def extract_log(log_file,new_log_file,key_word):\n",
    "    with open(log_file, 'r') as f:\n",
    "        with open(new_log_file, 'w') as train_log:\n",
    "            i = 0\n",
    "            for line in f:\n",
    "#                 print('line: ', line)\n",
    "        # 去除多gpu的同步log\n",
    "                if 'Syncing' in line:\n",
    "                    continue\n",
    "        # 去除除零错误的log\n",
    "                if 'nan' in line:\n",
    "                    continue\n",
    "                if key_word in line:\n",
    "                    train_log.write(line)\n",
    "                    i = i + 1\n",
    "#             print('{} lines: {}').format(key_word, i)\n",
    "    f.close()\n",
    "    train_log.close()\n",
    "    \n",
    "extract_log(r'/media/speech70809/santynode2/trainer.log',r'/media/speech70809/santynode2/train_log_loss.txt','Epoch')\n",
    "# extract_log('trainer.log','train_log_iou.txt','IOU')\n",
    "\n",
    "# ————————————————\n",
    "# 版权声明：本文为CSDN博主「dspeia」的原创文章，遵循 CC 4.0 BY-SA 版权协议，转载请附上原文出处链接及本声明。\n",
    "# 原文链接：https://blog.csdn.net/qq_34806812/article/details/81459982"
   ]
  },
  {
   "cell_type": "markdown",
   "metadata": {},
   "source": [
    "# loss visulization"
   ]
  },
  {
   "cell_type": "code",
   "execution_count": 7,
   "metadata": {},
   "outputs": [
    {
     "data": {
      "image/png": "[encoded data removed]",
      "text/plain": [
       "<Figure size 432x288 with 1 Axes>"
      ]
     },
     "metadata": {
      "needs_background": "light"
     },
     "output_type": "display_data"
    }
   ],
   "source": [
    "#!/usr/bin/python\n",
    "#coding=utf-8\n",
    " \n",
    "import pandas as pd\n",
    "import numpy as np\n",
    "import matplotlib.pyplot as plt\n",
    "\n",
    "startEpoch = 0\n",
    "endEpoch = 200\n",
    "with open(r'/media/speech70809/santynode2/train_log_loss.txt', 'r') as f:\n",
    "    epoch = []\n",
    "    train_loss = []\n",
    "    valid_loss = []\n",
    "    for lineNum, line in enumerate(f):\n",
    "        try:\n",
    "            if lineNum < 10:\n",
    "                epoch.append(int(line.split(' ')[11].split(':')[0]))\n",
    "                train_loss.append(float(line.split(' ')[14].split('(')[0]))\n",
    "                valid_loss.append(float(line.split(' ')[18].split('(')[0]))\n",
    "            else:\n",
    "\n",
    "                epoch.append(int(line.split(' ')[10].split(':')[0]))\n",
    "                train_loss.append(float(line.split(' ')[13].split('(')[0]))\n",
    "                valid_loss.append(float(line.split(' ')[17].split('(')[0]))\n",
    "        except:\n",
    "            pass\n",
    "\n",
    "fig, ax1 = plt.subplots(1, 1)\n",
    "plt.xlabel('Epoch')\n",
    "plt.ylabel('loss')\n",
    "ax1.scatter(epoch[startEpoch:endEpoch], train_loss[startEpoch:endEpoch], s=10, c='b', marker=\"s\", label='train')\n",
    "ax1.scatter(epoch[startEpoch:endEpoch],valid_loss[startEpoch:endEpoch], s=10, c='r', marker=\"o\", label='validation')\n",
    "plt.legend(loc='upper right');\n",
    "plt.savefig(r'/media/speech70809/santynode2/loss.jpg')\n",
    "plt.show()"
   ]
  },
  {
   "cell_type": "code",
   "execution_count": 8,
   "metadata": {},
   "outputs": [
    {
     "data": {
      "text/plain": [
       "[-13.8483,\n",
       " -13.8533,\n",
       " -13.8701,\n",
       " -13.9697,\n",
       " -13.971,\n",
       " -13.9663,\n",
       " -13.9904,\n",
       " -13.9717,\n",
       " -13.9807,\n",
       " -13.9693]"
      ]
     },
     "execution_count": 8,
     "metadata": {},
     "output_type": "execute_result"
    }
   ],
   "source": [
    "valid_loss[-10:]"
   ]
  },
  {
   "cell_type": "code",
   "execution_count": 9,
   "metadata": {},
   "outputs": [
    {
     "data": {
      "text/plain": [
       "[-13.8871,\n",
       " -13.8954,\n",
       " -13.9026,\n",
       " -14.0106,\n",
       " -14.0266,\n",
       " -14.0358,\n",
       " -14.0433,\n",
       " -14.049,\n",
       " -14.0554,\n",
       " -14.0609]"
      ]
     },
     "execution_count": 9,
     "metadata": {},
     "output_type": "execute_result"
    }
   ],
   "source": [
    "train_loss[-10:]"
   ]
  },
  {
   "cell_type": "code",
   "execution_count": null,
   "metadata": {},
   "outputs": [],
   "source": []
  }
 ],
 "metadata": {
  "kernelspec": {
   "display_name": "Python 3",
   "language": "python",
   "name": "python3"
  },
  "language_info": {
   "codemirror_mode": {
    "name": "ipython",
    "version": 3
   },
   "file_extension": ".py",
   "mimetype": "text/x-python",
   "name": "python",
   "nbconvert_exporter": "python",
   "pygments_lexer": "ipython3",
   "version": "3.7.0"
  }
 },
 "nbformat": 4,
 "nbformat_minor": 2
}
